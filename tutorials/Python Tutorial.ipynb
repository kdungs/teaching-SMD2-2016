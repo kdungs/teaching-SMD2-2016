{
 "cells": [
  {
   "cell_type": "markdown",
   "metadata": {},
   "source": [
    "# Python Tutorial\n",
    "Eine minimale Einführung in Python für Studierende mit Programmiererfahrung die keinen Anspruch auf Vollständigkeit erhebt.\n",
    "\n",
    "Ausführlichere Einführungen und Tutorials finden sich an zahlreichen Stellen im Internet. Beispielsweise\n",
    "\n",
    " * [Learn Python the Hard Way](http://learnpythonthehardway.org/)\n",
    " * [Software Carpentry](http://swcarpentry.github.io/python-novice-inflammation/)\n",
    " * [PeP et al. Toolbox Workshop](http://toolbox.pep-dortmund.org/notes.html)\n",
    " * [Python.org Beginners Guide](https://wiki.python.org/moin/BeginnersGuide)\n",
    " \n",
    "## Installation\n",
    "Um Jupyter (formals IPython) Notebooks interaktiv auf deinem Computer benutzen zu können, musst du zunächst ein paar Pakete installieren. Falls du Linux oder Mac OS benutzt und dich etwas auskennst, kannst du einfach deinen Paketmanager verwenden. Für diesen Kurs verwenden wir Python 3.5 mit den Paketen `numpy`, `scipy` und `matplotlib`. Zusätzlich installiere bitte das `jupyter` Paket um die interaktiven Notebooks nutzen zu können. Falls dir das zu viel Aufwand ist, gibt es den [Anaconda Installer](https://www.continuum.io/downloads) der alle nötigen Pakete mitbringt und auf allen gängigen Plattformen funktioniert. Eine ausführliche Anleitung dafür findet sich auf den [Seiten des PeP et al. Toolbox Workshops](http://toolbox.pep-dortmund.org/install.html).\n",
    "\n",
    "\n",
    "## Interaktives Notebook\n",
    " \n",
    "Dieses interaktive Notebook enthält ausführbare Zellen. Um eine Zelle auszuführen, bringe sie in den Fokus (z.B. durch Anklicken) und drücke Strg+Enter."
   ]
  },
  {
   "cell_type": "code",
   "execution_count": 1,
   "metadata": {
    "collapsed": false
   },
   "outputs": [
    {
     "name": "stdout",
     "output_type": "stream",
     "text": [
      "Hello, world!\n"
     ]
    }
   ],
   "source": [
    "print('Hello, world!')"
   ]
  },
  {
   "cell_type": "markdown",
   "metadata": {},
   "source": [
    "## Variablen, Datentypen, Operatoren\n",
    "Python hat ein dynamisches Typsystem, das bedeutet dass sich der Typ einer Variablen von Zuweisung zu Zuweisung ändern kann. Die eingebauten Typen von Python sind\n",
    "\n",
    " * Der _nullwertige Typ_ `NoneType` und sein einziger Wert `None`\n",
    " * Den _wahrheitswertigen Typen_ `bool` und seine Werte `True` und `False`\n",
    " * _Numerische Typen_\n",
    "     * `int` z.B. `42`\n",
    "     * `float` z.B. `3.1415`\n",
    "     * `complex` z.B. `2+3j`\n",
    " * _Sequenzen_\n",
    "     * `string` z.B. `'Hallo, Welt!'`\n",
    "     * `list` z.B. `[1, 2, 3]`\n",
    "     * `tuple` z.B. `(1, 'a', 3.1415)`\n",
    " * Den _Abbildungstypen_ `dict`, z.B. `{'name': 'Hans', 'alter': 42}`\n",
    " * Den _Mengentypen_ `set`, z.B. `{1, 2, 3}`"
   ]
  },
  {
   "cell_type": "code",
   "execution_count": 23,
   "metadata": {
    "collapsed": false
   },
   "outputs": [
    {
     "name": "stdout",
     "output_type": "stream",
     "text": [
      "1\n",
      "Hallo, Welt!\n",
      "3.1415\n",
      "[1, 2, 3]\n",
      "2\n",
      "[1, 2]\n",
      "42\n",
      "Ford\n",
      "Die Antwort ist 42.\n"
     ]
    }
   ],
   "source": [
    "# Dies ist ein Kommentar :)\n",
    "\n",
    "x = 1  # x ist ein int\n",
    "print(x)\n",
    "\n",
    "x = 'Hallo, Welt!'  # x ist jetzt ein string\n",
    "print(x)\n",
    "\n",
    "y = 3.1415  # y is ein float\n",
    "print(y)\n",
    "\n",
    "z = [1, 'a', 2.7182]  # z ist eine (heterogene) Liste mit drei Einträgen\n",
    "                      # Auch wenn es vom Typsystem nicht gefordert wird,\n",
    "                      # ist es eine gute Idee, Listen nur homogen zu befüllen.\n",
    "z = [1, 2, 3]\n",
    "print(z)\n",
    "print(z[1])\n",
    "print(z[0:-1]) # Mit Hilfe von \"Slices\" können wir Teile von Listen addressieren.\n",
    "               # Die Syntax ist dabei {Anfang}:{Ende}:{Schrittweite} wobei negative\n",
    "               # Indices vom Ende der Liste gezählt werden.\n",
    "\n",
    "(a, b) = (100, 'Zaphod')  # Tuple können benutzt werden, um Ausdrücke zu entpacken\n",
    "                        # und so effektiv mehrere Variablen gleichzeitig zuzuweisen\n",
    "                        # Die Klammern können dabei weggelassen werden\n",
    "a, b = 42, 'Ford'\n",
    "print(a)\n",
    "print(b)\n",
    "\n",
    "x = 'Die Antwort ist {}.'.format(a)  # Strings lassen sich formatieren, so können die Inhalte\n",
    "                                   # von Variablen bequem ausgegeben werden.\n",
    "print(x)"
   ]
  },
  {
   "cell_type": "markdown",
   "metadata": {},
   "source": [
    "Jeder dieser Typen lässt sich in einem wahrheitswertigen Kontext verwenden. In einem solchen ist beispielsweise ein leerer String oder eine leere Liste gleichbedeutend mit `False`."
   ]
  },
  {
   "cell_type": "code",
   "execution_count": 3,
   "metadata": {
    "collapsed": false
   },
   "outputs": [
    {
     "data": {
      "text/plain": [
       "True"
      ]
     },
     "execution_count": 3,
     "metadata": {},
     "output_type": "execute_result"
    }
   ],
   "source": [
    "not []"
   ]
  },
  {
   "cell_type": "markdown",
   "metadata": {},
   "source": [
    "Mit Hilfe von _Operatoren_ lassen sich Typen verknüpfen. Für numerische Typen gibt es beispielsweise die arithmetischen Operatoren\n",
    "\n",
    " * `+` Addition\n",
    " * `-` Subtraktion\n",
    " * `*` Multiplikation\n",
    " * `/` Division\n",
    " * `//` ganzzahlige Division\n",
    " * `%` Restwertbildung\n",
    " * `**` Potenzieren"
   ]
  },
  {
   "cell_type": "code",
   "execution_count": 4,
   "metadata": {
    "collapsed": false
   },
   "outputs": [
    {
     "data": {
      "text/plain": [
       "178243670.14837125"
      ]
     },
     "execution_count": 4,
     "metadata": {},
     "output_type": "execute_result"
    }
   ],
   "source": [
    "a = 1.337\n",
    "b = a * 5\n",
    "c = b ** 10\n",
    "c"
   ]
  },
  {
   "cell_type": "markdown",
   "metadata": {},
   "source": [
    "Eine vollständige Übersicht der Typen und verfügbaren Operationen findet sich in der [offiziellen Dokumentation](https://docs.python.org/3.5/library/stdtypes.html)."
   ]
  },
  {
   "cell_type": "markdown",
   "metadata": {},
   "source": [
    "## Konstrollstrukturen, Schleifen, Iteration\n",
    "Auch in Python gibt es `if`-Verzweigungen und (selten benutzte) `while`-Schleifen"
   ]
  },
  {
   "cell_type": "code",
   "execution_count": 5,
   "metadata": {
    "collapsed": false
   },
   "outputs": [
    {
     "name": "stdout",
     "output_type": "stream",
     "text": [
      "Nun, das ist jetzt etwas peinlich…\n"
     ]
    }
   ],
   "source": [
    "name = ''\n",
    "if 5 == 3:\n",
    "    print('Irgendwas stimmt mit dem Universum nicht.')\n",
    "elif name:  # Hier wird die Wahrheitswertigkeit verwendet\n",
    "    print('Hallo, {}!'.format(name))\n",
    "else:  # Setze einen Namen ein, um nicht hier zu landen\n",
    "    print('Nun, das ist jetzt etwas peinlich…')"
   ]
  },
  {
   "cell_type": "code",
   "execution_count": 6,
   "metadata": {
    "collapsed": false
   },
   "outputs": [
    {
     "name": "stdout",
     "output_type": "stream",
     "text": [
      "0\n",
      "1\n",
      "2\n",
      "3\n",
      "4\n"
     ]
    }
   ],
   "source": [
    "i = 0\n",
    "while i < 5:\n",
    "    print(i)\n",
    "    i += 1"
   ]
  },
  {
   "cell_type": "markdown",
   "metadata": {},
   "source": [
    "Eine `for`-Schleife wie in C gibt es in Python nicht. Das `for`-Schlüsselwort kommt immer in Begleitung seines Freundes `in`; die beiden sind unzertrennlich. Damit lässt sich über _Sequenzen_ iterieren."
   ]
  },
  {
   "cell_type": "code",
   "execution_count": 7,
   "metadata": {
    "collapsed": false
   },
   "outputs": [
    {
     "name": "stdout",
     "output_type": "stream",
     "text": [
      "Hello Klaus\n",
      "Hello Dieter\n",
      "Hello Hans\n",
      "0\n",
      "1\n",
      "2\n",
      "3\n",
      "4\n"
     ]
    }
   ],
   "source": [
    "names = ['Klaus', 'Dieter', 'Hans']\n",
    "for name in names:\n",
    "    print('Hello {}'.format(name))\n",
    "    \n",
    "for i in range(5):  # Praktisch, um Zahlenfolgen zu erzeugen.\n",
    "    print(i)"
   ]
  },
  {
   "cell_type": "markdown",
   "metadata": {},
   "source": [
    "Das liest sich doch deutlich angenehmer als die `while`-Schleife, oder? Falls du mal explizit die Indices einer Sequenz brauchst, hilft die `enumerate` Funktion."
   ]
  },
  {
   "cell_type": "code",
   "execution_count": 8,
   "metadata": {
    "collapsed": false
   },
   "outputs": [
    {
     "name": "stdout",
     "output_type": "stream",
     "text": [
      "Person 0 heißt Klaus.\n",
      "Person 1 heißt Dieter.\n",
      "Person 2 heißt Hans.\n"
     ]
    }
   ],
   "source": [
    "for index, name in enumerate(names):\n",
    "    print('Person {} heißt {}.'.format(index, name))"
   ]
  },
  {
   "cell_type": "markdown",
   "metadata": {},
   "source": [
    "## Funktionen\n",
    "Mit `print`, `range` und `enumerate` haben wir bereits Beispiele für Funktionen und die Aufrufsyntax gesehen. Um eigenen Funktionen zu definieren verwenden wir das `def` Schlüsselwort. Außerdem geben wir der Funktion eine Beschreibung. Die Beschreibung ist zwar optional, kann aber immens zum Verständnis des Codes beitragen. Sie wird für die automatisch generierte Hilfe der Funktion verwendet. Sie sollte in Englisch sein um unseren Code portabel zu halten."
   ]
  },
  {
   "cell_type": "code",
   "execution_count": 9,
   "metadata": {
    "collapsed": false
   },
   "outputs": [
    {
     "name": "stdout",
     "output_type": "stream",
     "text": [
      "16\n"
     ]
    }
   ],
   "source": [
    "def square(x):\n",
    "    \"\"\"This function squares its input.\n",
    "        x - A value of a type that implements `**` (power).\n",
    "    \"\"\"\n",
    "    return x ** 2\n",
    "\n",
    "print(square(4))"
   ]
  },
  {
   "cell_type": "code",
   "execution_count": 10,
   "metadata": {
    "collapsed": false
   },
   "outputs": [
    {
     "name": "stdout",
     "output_type": "stream",
     "text": [
      "Help on function square in module __main__:\n",
      "\n",
      "square(x)\n",
      "    This function squares its input.\n",
      "    x - A value of a type that implements `**` (power).\n",
      "\n"
     ]
    }
   ],
   "source": [
    "help(square)"
   ]
  },
  {
   "cell_type": "markdown",
   "metadata": {},
   "source": [
    "Schau dir doch mal die Hilfe zu `print` an und finde heraus, wie wir verhindern können, dass nach jedem Aufruf von `print` eine neue Zeile begonnen wird. Passe dann die folgende Zelle so an, dass alle Zahlen durch Leerzeichen getrennt in der selben Zeile erscheinen."
   ]
  },
  {
   "cell_type": "code",
   "execution_count": 11,
   "metadata": {
    "collapsed": false
   },
   "outputs": [
    {
     "name": "stdout",
     "output_type": "stream",
     "text": [
      "0\n",
      "1\n",
      "2\n",
      "3\n",
      "4\n",
      "5\n",
      "6\n",
      "7\n",
      "8\n",
      "9\n",
      "10\n",
      "11\n",
      "12\n",
      "13\n",
      "14\n",
      "15\n",
      "16\n",
      "17\n",
      "18\n",
      "19\n",
      "20\n",
      "21\n",
      "22\n",
      "23\n",
      "24\n",
      "25\n",
      "26\n",
      "27\n",
      "28\n",
      "29\n",
      "30\n",
      "31\n",
      "32\n",
      "33\n",
      "34\n",
      "35\n",
      "36\n",
      "37\n",
      "38\n",
      "39\n",
      "40\n",
      "41\n",
      "42\n",
      "43\n",
      "44\n",
      "45\n",
      "46\n",
      "47\n",
      "48\n",
      "49\n",
      "50\n",
      "51\n",
      "52\n",
      "53\n",
      "54\n",
      "55\n",
      "56\n",
      "57\n",
      "58\n",
      "59\n",
      "60\n",
      "61\n",
      "62\n",
      "63\n",
      "64\n",
      "65\n",
      "66\n",
      "67\n",
      "68\n",
      "69\n",
      "70\n",
      "71\n",
      "72\n",
      "73\n",
      "74\n",
      "75\n",
      "76\n",
      "77\n",
      "78\n",
      "79\n",
      "80\n",
      "81\n",
      "82\n",
      "83\n",
      "84\n",
      "85\n",
      "86\n",
      "87\n",
      "88\n",
      "89\n",
      "90\n",
      "91\n",
      "92\n",
      "93\n",
      "94\n",
      "95\n",
      "96\n",
      "97\n",
      "98\n",
      "99\n"
     ]
    }
   ],
   "source": [
    "for i in range(100):\n",
    "    print(i)"
   ]
  },
  {
   "cell_type": "markdown",
   "metadata": {},
   "source": [
    "Funktionen können mehrere Argumente annehmen. Dabei wird zwischen Argumenten und Schlüsselwortargumenten unterschieden. Primitive Datentypen wie `int` können als Schlüsselwortargument vordefiniert werden, da sie \"by value\" übergeben werden. Komplexere Datentypen wie zum Beispiel Listen werden als Referenzen übergeben was zur Folge hat, dass ein Standardwert innerhalb der Funktion verändert werden könnte. Deswegen wird i.d.R. das Verfahren aus dem untenstehenden Beispiel verwendet."
   ]
  },
  {
   "cell_type": "code",
   "execution_count": 12,
   "metadata": {
    "collapsed": false
   },
   "outputs": [
    {
     "name": "stdout",
     "output_type": "stream",
     "text": [
      "Hello, William!\n",
      "Hallo, Wilhelm!\n",
      "Salut, Guillaume!\n",
      "¡Hola, Guillermo!\n",
      "Well, this is embarassing. I don't speak Italiano.\n"
     ]
    }
   ],
   "source": [
    "greetings = {\n",
    "    'English': 'Hello, {}!',\n",
    "    'Deutsch': 'Hallo, {}!',\n",
    "    'Francais': 'Salut, {}!',\n",
    "    'Espagnol': '¡Hola, {}!'\n",
    "}\n",
    "\n",
    "def greet(name, language=None):\n",
    "    if language is None:  # So wird ein Standardwert für Sequenztypen definiert\n",
    "        language = 'English'\n",
    "    greeting = greetings.get(language)\n",
    "    if greeting is None:\n",
    "        print(\"Well, this is embarassing. I don't speak {}.\".format(language))\n",
    "    else:\n",
    "        print(greeting.format(name))\n",
    "        \n",
    "greet('William')\n",
    "greet('Wilhelm', language='Deutsch')\n",
    "greet('Guillaume', 'Francais')  # Wenn die Reihenfolge stimmt, kann das Schlüsselwort\n",
    "                                # auch weggelassen werden.\n",
    "greet('Guillermo', language='Espagnol')\n",
    "greet('Guglielmo', language='Italiano')"
   ]
  },
  {
   "cell_type": "markdown",
   "metadata": {},
   "source": [
    "## Comprehension\n",
    "Listen, bzw. Sequenzen allgemein, aus Ausdrücken generieren zu können ist eines der stärksten Features von Python. Um zum Beispiel eine Liste der Quadrate aller Zahlen in einer anderen Liste zu berechnen benötigen wir nur eine einzige Zeile Code"
   ]
  },
  {
   "cell_type": "code",
   "execution_count": 13,
   "metadata": {
    "collapsed": false
   },
   "outputs": [
    {
     "data": {
      "text/plain": [
       "[0, 1, 4, 9, 16, 25, 36, 49, 64, 81]"
      ]
     },
     "execution_count": 13,
     "metadata": {},
     "output_type": "execute_result"
    }
   ],
   "source": [
    "[x ** 2 for x in range(10)]"
   ]
  },
  {
   "cell_type": "markdown",
   "metadata": {},
   "source": [
    "Auf die gleiche Art lassen sich auch Sequenzen filtern."
   ]
  },
  {
   "cell_type": "code",
   "execution_count": 14,
   "metadata": {
    "collapsed": false
   },
   "outputs": [
    {
     "data": {
      "text/plain": [
       "[1, 3, 5, 7, 9]"
      ]
     },
     "execution_count": 14,
     "metadata": {},
     "output_type": "execute_result"
    }
   ],
   "source": [
    "[x for x in range(10) if x % 2 != 0]"
   ]
  },
  {
   "cell_type": "markdown",
   "metadata": {},
   "source": [
    "Das Ganze lässt sich natürlich kombinieren und verschachteln."
   ]
  },
  {
   "cell_type": "code",
   "execution_count": 15,
   "metadata": {
    "collapsed": false
   },
   "outputs": [
    {
     "name": "stdout",
     "output_type": "stream",
     "text": [
      "[1, 9, 25, 49, 81]\n",
      "[3, 4, 5, 4, 5, 5]\n"
     ]
    }
   ],
   "source": [
    "odd_squares = [x ** 2 for x in range(10) if x % 2 == 1]\n",
    "print(odd_squares)\n",
    "\n",
    "nums = [z for z in [x + y for x in range(3) for y in range(3, 6)] if z < 6]\n",
    "print(nums)"
   ]
  },
  {
   "cell_type": "markdown",
   "metadata": {},
   "source": [
    "## Weiterführende Themen\n",
    "werden hier nur kurz angeschnitten. Der geneigte Leser wird angehalten eine der eingangs erwähnten Resourcen zu konsultieren.\n",
    "\n",
    "### Eigene Typen / Klasen\n",
    "Mit Hilfe des `class`-Schlüsselwortes lassen sich eigene Typen definieren. Typen haben Methoden und Attribute, wie man es aus objektorientierten Sprachen kennt. Alle Methoden einer Klasse nehmen als erstes Argument eine Referenz auf das aktuelle Objekt namens `self` an. Die geschulte C++-Programmiererin kann sich das als _expliziten_ `this` Zeiger vorstellen.\n",
    "\n",
    "### Standardbibliothek\n",
    "Python kommt \"mit Batterien\". Die Standardbibliothek bietet Funktionalität für eine ganze Bandbreite von Aufgaben bis hin zu einem Webserver. Es wird dringend empfohlen sich mit den folgenden Teilen vertraut zu machen:\n",
    "\n",
    " * [Eingebaute Funktionen](https://docs.python.org/3.5/library/functions.html) vorallem `zip`\n",
    " * [Itertools](https://docs.python.org/3/library/itertools.html)\n",
    " * [Functools](https://docs.python.org/3/library/functools.html) speziell `partial`\n",
    " * [Operator](https://docs.python.org/3/library/operator.html)\n",
    " * [Dateizugriffe](https://docs.python.org/3/library/filesys.html)"
   ]
  }
 ],
 "metadata": {
  "kernelspec": {
   "display_name": "Python 3",
   "language": "python",
   "name": "python3"
  },
  "language_info": {
   "codemirror_mode": {
    "name": "ipython",
    "version": 3
   },
   "file_extension": ".py",
   "mimetype": "text/x-python",
   "name": "python",
   "nbconvert_exporter": "python",
   "pygments_lexer": "ipython3",
   "version": "3.5.1"
  }
 },
 "nbformat": 4,
 "nbformat_minor": 0
}
