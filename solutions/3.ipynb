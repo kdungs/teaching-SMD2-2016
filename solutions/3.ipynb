{
 "cells": [
  {
   "cell_type": "markdown",
   "metadata": {},
   "source": [
    "# Übungsblatt 3: sWeights\n",
    "\n",
    " * [Aufgabe 1](#Aufgabe-1)\n",
    " * [Aufgabe 2](#Aufgabe-2)\n",
    "\n",
    "Eine experimentelle Verteilung in den Variablen $(x, m)$ habe eine Signalkomponente $s(x, m)$ = $s(x)s(m)$ und eine Untergrundkomponente $b(x,m)$ = $b(x)b(m)$. Der erlaubte Bereich ist $0 < x < 1$ und $0 < m < 1$. Es sei $s(m)$ eine Gaussverteilung mit Mittelwert $\\mu = 0.5$ und Standardabweichung $\\sigma = 0.05$. Die Verteilungen der anderen Komponenten werden aus gleichverteilten Zufallzahlen $z$ gewonnen. Für $s(x)$ verwende man $x = −0.2\\ln{z}$, für $b(m)$ verwende man $m = \\sqrt{z}$ und für $b(x)$ die Transformation $x = 1 − \\sqrt{z}$.\n",
    "\n",
    "Erzeugen Sie für zwei angenommene Effizienzfunktionen\n",
    "\n",
    " * $\\varepsilon(x, m) = 1$\n",
    " * $\\varepsilon(x, m) = (x + m) / 2$\n",
    " \n",
    "Datensätze von Paaren $(x, m)$ die 20000 akzeptierte Signalereignisse und 100000 akzeptierte Untergrundereignisse umfassen.\n",
    "Betrachten Sie nun die gemeinsame $m$-Verteilung und parametrisieren Sie diese durch\n",
    "\n",
    "\\begin{equation}\n",
    "    f(m) = s(m) + b(m)\n",
    "\\end{equation}\n",
    "\n",
    "mit\n",
    "\n",
    "\\begin{equation}\n",
    "    s(m) = p_0 \\exp\\left(-\\frac{(m - p_1)^2}{2p_p^2}\\right)\n",
    "\\end{equation}\n",
    "\n",
    "und\n",
    "\n",
    "\\begin{equation}\n",
    "    b(m) = p_3 + p_4m + p_5m^2 + p_6\\sqrt{m} \\,.\n",
    "\\end{equation}\n",
    "\n",
    " Für den Fall $\\varepsilon(x, m) = (x + m)/2$ benutzen Sie die obige Parametrisierung auch zur Beschreibung der $m_c$ und $m_{cc}$-Verteilungen, für die jeder $m$-Wert mit $1/\\varepsilon(x, m)$, bzw. $1/\\varepsilon^2(x, m)$ gewichtet wird, und die für die korrekte Behandlung von nicht-konstanten Effizienzen benötigt werden.\n",
    " \n",
    "---"
   ]
  },
  {
   "cell_type": "code",
   "execution_count": null,
   "metadata": {
    "collapsed": true
   },
   "outputs": [],
   "source": []
  },
  {
   "cell_type": "markdown",
   "metadata": {},
   "source": [
    "---\n",
    "## Aufgabe 1\n",
    "Bestimmen Sie für beide Effizienzfunktion die sWeights $w(m)$ aus den beobachteten $m$-Verteilungen, und verwenden Sie $w(m)/\\varepsilon(x, m)$ um die Verteilung $N_{s}s(x)$ aus den Daten heraus zu projizieren. Vergleichen Sie für beide Effizienzfunktionen das Resultat mit der Erwartung.\n",
    "\n",
    "---"
   ]
  },
  {
   "cell_type": "code",
   "execution_count": null,
   "metadata": {
    "collapsed": true
   },
   "outputs": [],
   "source": []
  },
  {
   "cell_type": "markdown",
   "metadata": {},
   "source": [
    "---\n",
    "## Aufgabe 2\n",
    "Bestimmen Sie für $\\varepsilon(x, m) = (x + m)/2$ unter Berücksichtigung der Funktion $\\varepsilon(x, m)$ in der Bestimmung von $w(m)$ die korrekten sWeights aus den mit $1/\\varepsilon(x, m)$ gewichteten Daten. Verwenden Sie die korrekten sWeights um mit $w(m)/\\varepsilon(x, m)$ um die Verteilung $N_{s}s(x)$ zu extrahieren."
   ]
  },
  {
   "cell_type": "code",
   "execution_count": null,
   "metadata": {
    "collapsed": true
   },
   "outputs": [],
   "source": []
  }
 ],
 "metadata": {
  "kernelspec": {
   "display_name": "Python 3",
   "language": "python",
   "name": "python3"
  },
  "language_info": {
   "codemirror_mode": {
    "name": "ipython",
    "version": 3
   },
   "file_extension": ".py",
   "mimetype": "text/x-python",
   "name": "python",
   "nbconvert_exporter": "python",
   "pygments_lexer": "ipython3",
   "version": "3.5.1"
  }
 },
 "nbformat": 4,
 "nbformat_minor": 0
}
