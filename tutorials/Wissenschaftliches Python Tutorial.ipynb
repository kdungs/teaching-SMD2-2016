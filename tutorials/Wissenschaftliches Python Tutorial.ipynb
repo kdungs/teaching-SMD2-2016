{
 "cells": [
  {
   "cell_type": "markdown",
   "metadata": {},
   "source": [
    "# Wissenschaftliches Python Tutorial\n",
    "Nachdem wir uns im Python Tutorial um die Grundlagen gekümmert haben, wollen wir uns nun mit einigen Bibliotheken beschäftigen, die das wissenschaftliche Arbeiten erleichtern. Diese sind\n",
    "\n",
    " * [Numpy](http://www.numpy.org/) für effiziente Berechnungen auf strukturierten Daten\n",
    " * [Matplotlib](http://matplotlib.org/) bietet eine einfache Möglichkeit Daten schön darzustellen\n",
    " * [Scipy](http://www.scipy.org/) enthält mathematische Funktionen und Algorithmen für statistische Berechnungen, Fits, etc.\n",
    " \n",
    "Zunächst laden wir die Bibliotheken. Sollte dabei ein Fehler auftreten, stell bitte sicher, dass bei der Installation alles geklappt hat und du kein Paket vergessen hast. Die erste Zeile mit dem `%`-Zeichen ist sogenannte \"Magie\", die dafür sorgt, dass Plots im Notebook dargestellt werden."
   ]
  },
  {
   "cell_type": "code",
   "execution_count": 1,
   "metadata": {
    "collapsed": false
   },
   "outputs": [],
   "source": [
    "%matplotlib inline\n",
    "import numpy as np\n",
    "import matplotlib.pyplot as plt\n",
    "import scipy"
   ]
  },
  {
   "cell_type": "markdown",
   "metadata": {},
   "source": [
    "## Numpy: Arrays und effiziente Berechnungen\n",
    "Das Herzstück von Numpy ist das _Array_. Dieser Datentyp repräsentiert eine Matrix und ist unter der Haube in C implementiert. Dabei wird großer Wert auf effiziente Speichernutzung gelegt. Der gängige Satz \"Python ist viel zu langsam\" ist also nicht zwingend wahr. Wir können Arrays auf verschiedene Arten erzeugen."
   ]
  },
  {
   "cell_type": "code",
   "execution_count": 2,
   "metadata": {
    "collapsed": false
   },
   "outputs": [
    {
     "name": "stdout",
     "output_type": "stream",
     "text": [
      "[1 2 3 4]\n",
      "[0 1 2 3]\n"
     ]
    }
   ],
   "source": [
    "xs = np.array([1, 2, 3, 4])  # Konvertiert eine Python-Liste in ein Numpy-Array\n",
    "print(xs)\n",
    "ys = np.arange(4)  # Erzeugt ein Array analog zur `range` Funktion\n",
    "print(ys)"
   ]
  },
  {
   "cell_type": "markdown",
   "metadata": {},
   "source": [
    "Numpy Arrays unterstützen arithmetische Operationen, die wiederum effizient implementiert sind. Beispielsweise lassen sich zwei Arrays (elementweise) addieren sofern sie die gleichen Dimensionen haben."
   ]
  },
  {
   "cell_type": "code",
   "execution_count": 3,
   "metadata": {
    "collapsed": false
   },
   "outputs": [
    {
     "data": {
      "text/plain": [
       "array([1, 3, 5, 7])"
      ]
     },
     "execution_count": 3,
     "metadata": {},
     "output_type": "execute_result"
    }
   ],
   "source": [
    "xs + ys"
   ]
  },
  {
   "cell_type": "markdown",
   "metadata": {},
   "source": [
    "Um einen Überblick über alle Features von Numpy zu bekommen, können wir die Hilfe zu Rate ziehen. Zusätzlich zur `help` Funktion bietet IPython auch die `?`-Magie mit einer besseren Integration in Jupyter"
   ]
  },
  {
   "cell_type": "code",
   "execution_count": 4,
   "metadata": {
    "collapsed": false
   },
   "outputs": [],
   "source": [
    "np?"
   ]
  },
  {
   "cell_type": "markdown",
   "metadata": {},
   "source": [
    "Für die Übungsaufgaben werden wir häufig Zufallszahlen brauchen. Dafür bietet sich die Verwendung von `np.random` an."
   ]
  },
  {
   "cell_type": "code",
   "execution_count": 5,
   "metadata": {
    "collapsed": true
   },
   "outputs": [],
   "source": [
    "np.random?"
   ]
  },
  {
   "cell_type": "code",
   "execution_count": 6,
   "metadata": {
    "collapsed": false
   },
   "outputs": [],
   "source": [
    "gauss = np.random.normal(2, 3, size=10000)  # Erzeuge 10000 Gauß-verteilte Zufallszahlen\n",
    "                                            # mit µ=2 und σ=3."
   ]
  },
  {
   "cell_type": "markdown",
   "metadata": {},
   "source": [
    "## Matplotlib: _Schöne_ Plots\n",
    "Matplotlib bietet sehr intuitive Funktionen um Daten darzustellen. Die [sehr ausführliche Dokumentation](http://matplotlib.org/api/pyplot_api.html#module-matplotlib.pyplot) bietet einen guten Überblick. Wir benutzen an dieser Stelle nur das `pyplot` Submodul, das uns ein einfaches Interface für die Kernfunktionalität bietet. In der [Matplotlib Galerie](http://matplotlib.org/gallery.html) finden sich viele schöne Beispiele mit Codeschnipseln.\n",
    "\n",
    "Um unsere Gauß-verteilten Zufallszahlen zu histogrammieren benutzen wir einfach `plt.hist`. Außerdem setzen wir gleich Achsenbeschriftungen."
   ]
  },
  {
   "cell_type": "code",
   "execution_count": 7,
   "metadata": {
    "collapsed": false
   },
   "outputs": [
    {
     "data": {
      "text/plain": [
       "<matplotlib.text.Text at 0x103bed898>"
      ]
     },
     "execution_count": 7,
     "metadata": {},
     "output_type": "execute_result"
    },
    {
     "data": {
      "image/png": "[encoded data removed]",
      "text/plain": [
       "<matplotlib.figure.Figure at 0x103bafcf8>"
      ]
     },
     "metadata": {},
     "output_type": "display_data"
    }
   ],
   "source": [
    "plt.hist(gauss)\n",
    "plt.xlabel('Wert')\n",
    "plt.ylabel('Absolute Häufigkeit')"
   ]
  },
  {
   "cell_type": "markdown",
   "metadata": {},
   "source": [
    "Falls dir dieser Plot zu steril ist, können wir den Stil der bekannten R-Bibliothek `ggplot2` verwenden."
   ]
  },
  {
   "cell_type": "code",
   "execution_count": 8,
   "metadata": {
    "collapsed": false
   },
   "outputs": [],
   "source": [
    "import matplotlib\n",
    "matplotlib.style.use('ggplot')"
   ]
  },
  {
   "cell_type": "markdown",
   "metadata": {},
   "source": [
    "Wir wollen nun die Anzahl Bins erhöhen und zusätzlich das Histogram normieren, damit wir die normierte Verteilungsfunktion (PDF) eintragen können."
   ]
  },
  {
   "cell_type": "code",
   "execution_count": 9,
   "metadata": {
    "collapsed": false
   },
   "outputs": [
    {
     "data": {
      "text/plain": [
       "<matplotlib.text.Text at 0x103d2de10>"
      ]
     },
     "execution_count": 9,
     "metadata": {},
     "output_type": "execute_result"
    },
    {
     "data": {
      "image/png": "[encoded data removed]",
      "text/plain": [
       "<matplotlib.figure.Figure at 0x103c49198>"
      ]
     },
     "metadata": {},
     "output_type": "display_data"
    }
   ],
   "source": [
    "plt.hist(gauss, bins=20, normed=True)\n",
    "plt.xlabel('Wert')\n",
    "plt.ylabel('Relative Häufigkeit')"
   ]
  },
  {
   "cell_type": "markdown",
   "metadata": {},
   "source": [
    "## Scipy: Statistische Funktionen und mehr\n",
    "Die PDF erhalten wir ebenfalls aus Scipy. Um sie plotten zu können, müssen wir sie auf eine Reihe von Werten anwenden um Datenpunkte zu erhalten. Hier zeigt sich erneut die Stärke von Numpy: wir können einfach die Funktion auf das ganze Array anwenden und erhalten ein Array von Ergebnissen. Scipy ist modular aufgebaut, so dass wir mit unserem obigen Import nicht alle Untermodule enthalten. Wir müssen das Statistikmodul explizit importieren."
   ]
  },
  {
   "cell_type": "code",
   "execution_count": 10,
   "metadata": {
    "collapsed": false
   },
   "outputs": [
    {
     "data": {
      "text/plain": [
       "<matplotlib.legend.Legend at 0x10533fcf8>"
      ]
     },
     "execution_count": 10,
     "metadata": {},
     "output_type": "execute_result"
    },
    {
     "data": {
      "image/png": "[encoded data removed]",
      "text/plain": [
       "<matplotlib.figure.Figure at 0x1051df4a8>"
      ]
     },
     "metadata": {},
     "output_type": "display_data"
    }
   ],
   "source": [
    "import scipy.stats\n",
    "pdf = scipy.stats.norm(2, 3).pdf\n",
    "xs = np.linspace(-10, 15, 10000)  # Erzeuge 10000 äquidistante Werte im Interval [-15, 15).\n",
    "plt.plot(xs, pdf(xs), label='PDF')\n",
    "\n",
    "plt.hist(gauss, bins=20, normed=True, label='Werte')\n",
    "plt.xlabel('Wert')\n",
    "plt.ylabel('Relative Häufigkeit')\n",
    "plt.legend()"
   ]
  },
  {
   "cell_type": "markdown",
   "metadata": {},
   "source": [
    "Das sieht doch schon mal hübsch aus. Ich denke das ist ein guter Punkt um unsere kleine Einführung zu beenden.\n",
    "\n",
    "An dieser Stelle sei abschließend auf die [Scipy Dokumentation](http://docs.scipy.org/doc/scipy/reference/) verwiesen. Neben dem [Statistikmodul](http://docs.scipy.org/doc/scipy/reference/tutorial/stats.html) gibt es dort Funktionen für, unter anderem, Integration ([`scipy.integrate`](http://docs.scipy.org/doc/scipy/reference/tutorial/integrate.html)), Optimierung/Fits ([`scipy.optimize`](http://docs.scipy.org/doc/scipy/reference/tutorial/optimize.html)), Interpolation ([`scipy.interpolate`](http://docs.scipy.org/doc/scipy/reference/tutorial/interpolate.html)), Fouriertransformationen ([`scipy.fftpack`](http://docs.scipy.org/doc/scipy/reference/tutorial/fftpack.html)) und viele mehr."
   ]
  },
  {
   "cell_type": "markdown",
   "metadata": {},
   "source": [
    "## Weiterführendes Material\n",
    "\n",
    " * [Pandas](http://pandas.pydata.org/pandas-docs/stable/) ein mächtiges Werkzeug für die Analyse tabellarischer Daten im Stile von Data Frames in R\n",
    " * [Uncertainties](https://pythonhosted.org/uncertainties/) Bibliothek für das Rechnen mit Unsicherheiten\n",
    " * [SimPy](http://docs.sympy.org/latest/index.html) Bibliothek für symbolisches Rechnen"
   ]
  },
  {
   "cell_type": "code",
   "execution_count": null,
   "metadata": {
    "collapsed": true
   },
   "outputs": [],
   "source": []
  }
 ],
 "metadata": {
  "kernelspec": {
   "display_name": "Python 3",
   "language": "python",
   "name": "python3"
  },
  "language_info": {
   "codemirror_mode": {
    "name": "ipython",
    "version": 3
   },
   "file_extension": ".py",
   "mimetype": "text/x-python",
   "name": "python",
   "nbconvert_exporter": "python",
   "pygments_lexer": "ipython3",
   "version": "3.5.1"
  }
 },
 "nbformat": 4,
 "nbformat_minor": 0
}
