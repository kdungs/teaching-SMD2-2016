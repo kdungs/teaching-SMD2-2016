{
 "cells": [
  {
   "cell_type": "markdown",
   "metadata": {},
   "source": [
    "# Übungsblatt 4: MCMC\n",
    "\n",
    " * [Aufgabe 1](#Aufgabe-1)\n",
    " * [Aufgabe 2](#Aufgabe-2)\n",
    " \n",
    "---"
   ]
  },
  {
   "cell_type": "code",
   "execution_count": 1,
   "metadata": {
    "collapsed": true
   },
   "outputs": [],
   "source": [
    "%matplotlib inline\n",
    "import numpy as np\n",
    "import matplotlib.pyplot as plt\n",
    "import scipy.stats\n",
    "from functools import partial\n",
    "\n",
    "plt.style.use('ggplot')"
   ]
  },
  {
   "cell_type": "markdown",
   "metadata": {},
   "source": [
    "---\n",
    "## Aufgabe 1\n",
    "Erzeugen Sie Paare von Zufallszahlen (x, y) die gemäß der zweidimensionalen Dichte\n",
    "\n",
    "\\begin{equation}\n",
    "    f(x, y) \\propto \\exp\\left(-((x-2)x + y^2)/10\\right)\\cdot\\sin^2(x\\cdot y + x)\n",
    "\\end{equation}\n",
    "\n",
    "verteilt sind. Bestimmen Sie daraus die Verteilung $\\rho(r)$ mit $r^2 = x^2 + y^2$.\n",
    "\n",
    "---"
   ]
  },
  {
   "cell_type": "code",
   "execution_count": 2,
   "metadata": {
    "collapsed": false
   },
   "outputs": [
    {
     "name": "stdout",
     "output_type": "stream",
     "text": [
      "CPU times: user 1.36 s, sys: 48.3 ms, total: 1.41 s\n",
      "Wall time: 1.4 s\n",
      "CPU times: user 582 ms, sys: 6.11 ms, total: 588 ms\n",
      "Wall time: 590 ms\n"
     ]
    }
   ],
   "source": [
    "def mcmc_step(pdf, xs):\n",
    "    ds = np.random.uniform(-3, 3, size=len(xs))\n",
    "    r = np.random.uniform()\n",
    "    nxs = xs + ds\n",
    "    p0 = pdf(xs)\n",
    "    p1 = pdf(nxs)\n",
    "    if p1 > p0 or r < (p1 / p0):\n",
    "        return nxs\n",
    "    return xs\n",
    "\n",
    "\n",
    "def mcmc_sample(pdf, xs, size=100000):\n",
    "    xss = []\n",
    "    for _ in range(size):\n",
    "        xs = mcmc_step(pdf, xs)\n",
    "        xss.append(xs)\n",
    "    return np.array(xss).T\n",
    "\n",
    "\n",
    "def mcmc_generate(pdf, xs, size=100000):\n",
    "    ds = np.random.uniform(-3, 3, size=(size, len(xs)))\n",
    "    r = np.random.uniform(size=size)\n",
    "    p0 = pdf(xs)\n",
    "    xss = []\n",
    "    for i in range(size):\n",
    "        nxs = xs + ds[i]\n",
    "        p1 = pdf(nxs)\n",
    "        if p1 > p0 or r[i] < (p1 / p0):\n",
    "            xs = nxs\n",
    "            p0 = p1\n",
    "        xss.append(xs)\n",
    "    return np.array(xss).T\n",
    "\n",
    "\n",
    "def pdf(xs):\n",
    "    x, y = xs\n",
    "    return np.exp(-((x - 2) * x + y ** 2) / 10) * np.sin(x * y + x) ** 2\n",
    "\n",
    "\n",
    "%time xs, ys = mcmc_sample(pdf, np.array([0, 0]))\n",
    "%time xs, ys = mcmc_generate(pdf, np.array([0, 0]))"
   ]
  },
  {
   "cell_type": "code",
   "execution_count": 3,
   "metadata": {
    "collapsed": false
   },
   "outputs": [
    {
     "data": {
      "image/png": "[encoded data removed]",
      "text/plain": [
       "<matplotlib.figure.Figure at 0x109fa3048>"
      ]
     },
     "metadata": {},
     "output_type": "display_data"
    },
    {
     "data": {
      "image/png": "[encoded data removed]",
      "text/plain": [
       "<matplotlib.figure.Figure at 0x10a5f01d0>"
      ]
     },
     "metadata": {},
     "output_type": "display_data"
    }
   ],
   "source": [
    "plt.hist2d(xs, ys, bins=40)\n",
    "plt.show()\n",
    "\n",
    "plt.hist(np.sqrt(xs ** 2 + ys ** 2), bins=40)\n",
    "plt.show()"
   ]
  },
  {
   "cell_type": "markdown",
   "metadata": {},
   "source": [
    "---\n",
    "## Aufgabe 2\n",
    "Ein Experiment beobachtet $n$ Ereignisse. Die Nachweiswahrscheinlichkeit für ein Ereignis sei $ε$. Die wahre Anzahl ist Poisson-verteilt mit einem Mittelwert $μ$, der eine Funktion zweier Theorieparameter $a$ und $b$ ist, $μ = a^b$. Aus Kalibrationsmessungen ist bekannt dass $ε$ Gauss-verteilt ist mit $ε = 0.75 \\pm 0.05$. Vom Parameter $b$ ist bekannt dass er nahe bei $b = 1$ liegt. Für ihn wird eine gleichförmige Verteilung im Bereich $0.9 < b < 1.1$ angenommen. Der Parameter $a$ muss positiv sein. Verwenden Sie bayes’sche Statistik und MCMC, und bestimmen Sie für $n = 1$ und $n = 10$ die posterior Verteilung von $a$ nach Integration über die Nuissance-Parameter $ε$ und $b$.\n",
    "\n",
    "---"
   ]
  },
  {
   "cell_type": "markdown",
   "metadata": {},
   "source": [
    "Zunächst müssen wir berechnen, wie die Effizienz die Verteilung der $n$ beeinflusst. Es sei $q_n$ die Wahrscheinlichkeit $n$ Ereignisse zu beobachten, wenn die $n$ um einen Mittelwert $\\mu$ Poisson-verteilt sind und mit einer Effizienz $\\varepsilon$ beobachtet werden. Es kann also sein, dass genau $n$ Ereignisse auftreten und alle beobachtet werden, oder $n+1$ beobachtet werden und eins nicht usw. Das bedeutet\n",
    "\n",
    "\\begin{align}\n",
    "    q_n &= \\sum_{k=n}^\\infty \\mathrm{Poisson}(k, \\mu) \\binom{k}{n} \\varepsilon^n (1-\\varepsilon)^{k-n} \\\\\n",
    "        &= \\sum_{k=n}^\\infty \\exp(-\\mu) \\frac{\\mu^k}{k!} \\frac{k!}{n!(k-n)!} \\varepsilon^n (1-\\varepsilon)^{k-n} \\\\\n",
    "        &= \\exp(-\\mu) \\frac{\\mu^n}{n!} \\sum_{k=n}^\\infty \\frac{\\mu^k (1-\\varepsilon)^{k-n}}{(k-n)!} \\\\\n",
    "        &= \\exp(-\\mu) \\frac{(\\varepsilon\\mu)^n}{n!} \\sum_{k=n}^\\infty \\frac{(\\mu(1-\\varepsilon)^{k-n}}{(k-n)!} \\\\\n",
    "        &= \\exp(-\\mu) \\frac{(\\varepsilon\\mu)^n}{n!} \\sum_{k=0}^\\infty \\frac{(\\mu(1-\\varepsilon)^{k}}{(k)!} \\\\\n",
    "        &= \\exp(-\\mu) \\frac{(\\varepsilon\\mu)^n}{n!} \\exp(\\mu(1-\\varepsilon)) \\\\\n",
    "        &= \\exp(-\\varepsilon\\mu) \\frac{(\\varepsilon\\mu)^n}{n!} \\\\\n",
    "        &= \\mathrm{Poisson}(n, \\varepsilon\\mu) \\\\\n",
    "\\end{align}"
   ]
  },
  {
   "cell_type": "markdown",
   "metadata": {
    "collapsed": true
   },
   "source": [
    "Damit lässt sich die Posteriorwahrscheinlichkeit von $a$ als\n",
    "\n",
    "\\begin{equation}\n",
    "    p(a\\,|\\,n, \\varepsilon, b) \\sim p(n\\,|\\,a, \\varepsilon, b) \\cdot p(a) \\cdot p(\\varepsilon) \\cdot p(b)\n",
    "\\end{equation}\n",
    "\n",
    "ausdrücken. Setzen wir die Priorwahrscheinlichkeiten für $\\varepsilon$ und $b$ aus der Aufgabenstellung ein und fordern $a > 0$ durch eine Heavisidefunktion erhalten wir\n",
    "\n",
    "\\begin{align}\n",
    "    p(a\\,|\\,n, \\varepsilon, b) &= \\mathrm{Poisson}(n, \\varepsilon a^b) \\cdot \\Theta(a) \\cdot \\mathrm{Uniform}(b, 0.9, 1.1) \\cdot \\mathrm{Gauß}(\\varepsilon, 0.75, 0.05)\n",
    "\\end{align}\n",
    "\n",
    "Dieser Ausdruck wird jetzt per MCMC über $\\varepsilon$ und $b$ integriert um die Verteilung von $p(a\\,|\\,n)$ zu erhalten. Zunächst definieren wir die Funktion $p = p(a\\,|\\,n, \\varepsilon, b)$."
   ]
  },
  {
   "cell_type": "code",
   "execution_count": 4,
   "metadata": {
    "collapsed": true
   },
   "outputs": [],
   "source": [
    "uniform_b = scipy.stats.uniform(0.9, 1.1).pdf\n",
    "gaussian_eps = scipy.stats.norm(0.75, 0.05).pdf\n",
    "\n",
    "def p(a, n, eps, b):\n",
    "    if a <= 0:\n",
    "        return 0\n",
    "    epsab = eps * a**b\n",
    "    return scipy.stats.poisson.pmf(n, epsab) * uniform_b(b) * gaussian_eps(eps)"
   ]
  },
  {
   "cell_type": "markdown",
   "metadata": {},
   "source": [
    "Diese können wir dann bequem mit unseren, in Aufgabe 1 formulierten, MCMC-Funktionen verwenden. Wir müssen uns nur einen kleinen Wrapper schreiben."
   ]
  },
  {
   "cell_type": "code",
   "execution_count": 5,
   "metadata": {
    "collapsed": false
   },
   "outputs": [
    {
     "data": {
      "image/png": "[encoded data removed]",
      "text/plain": [
       "<matplotlib.figure.Figure at 0x10a703e48>"
      ]
     },
     "metadata": {},
     "output_type": "display_data"
    }
   ],
   "source": [
    "def p_n(n, pars):\n",
    "    a, eps, b = pars\n",
    "    return p(a, n, eps, b)\n",
    "\n",
    "\n",
    "p_1 = partial(p_n, 1)\n",
    "as1, _, _ = mcmc_generate(p_1, np.array([0.01, 0.75, 1]), size=1000000)\n",
    "\n",
    "plt.hist(as1, bins=40)\n",
    "plt.title('$n = 1$')\n",
    "plt.xlabel('$a$')\n",
    "plt.ylabel('Absolute Häufigkeit')\n",
    "plt.show()"
   ]
  },
  {
   "cell_type": "code",
   "execution_count": 6,
   "metadata": {
    "collapsed": false
   },
   "outputs": [
    {
     "data": {
      "image/png": "[encoded data removed]",
      "text/plain": [
       "<matplotlib.figure.Figure at 0x109ff8320>"
      ]
     },
     "metadata": {},
     "output_type": "display_data"
    }
   ],
   "source": [
    "p_10 = partial(p_n, 10)\n",
    "as10, _, _ = mcmc_generate(p_10, np.array([0.01, 0.75, 1]), size=1000000)\n",
    "\n",
    "plt.hist(as10, bins=40)\n",
    "plt.title('$n = 10$')\n",
    "plt.xlabel('$a$')\n",
    "plt.ylabel('Absolute Häufigkeit')\n",
    "plt.show()"
   ]
  }
 ],
 "metadata": {
  "kernelspec": {
   "display_name": "Python 3",
   "language": "python",
   "name": "python3"
  },
  "language_info": {
   "codemirror_mode": {
    "name": "ipython",
    "version": 3
   },
   "file_extension": ".py",
   "mimetype": "text/x-python",
   "name": "python",
   "nbconvert_exporter": "python",
   "pygments_lexer": "ipython3",
   "version": "3.5.1"
  }
 },
 "nbformat": 4,
 "nbformat_minor": 0
}
