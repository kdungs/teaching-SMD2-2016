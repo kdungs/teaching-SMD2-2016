{
 "cells": [
  {
   "cell_type": "markdown",
   "metadata": {},
   "source": [
    "# Übungsblatt 4: MCMC\n",
    "\n",
    " * [Aufgabe 1](#Aufgabe-1)\n",
    " * [Aufgabe 2](#Aufgabe-2)\n",
    " \n",
    "---"
   ]
  },
  {
   "cell_type": "code",
   "execution_count": 1,
   "metadata": {
    "collapsed": true
   },
   "outputs": [],
   "source": [
    "%matplotlib inline\n",
    "import numpy as np\n",
    "import matplotlib.pyplot as plt\n",
    "\n",
    "plt.style.use('ggplot')"
   ]
  },
  {
   "cell_type": "markdown",
   "metadata": {},
   "source": [
    "---\n",
    "## Aufgabe 1\n",
    "Erzeugen Sie Paare von Zufallszahlen (x, y) die gemäß der zweidimensionalen Dichte\n",
    "\n",
    "\\begin{equation}\n",
    "    f(x, y) \\propto \\exp\\left(-((x-2)y + y^2)/10\\right)\\cdot\\sin^2(x\\cdot y + x)\n",
    "\\end{equation}\n",
    "\n",
    "verteilt sind. Bestimmen Sie daraus die Verteilung $\\rho(r)$ mit $r = x^2 + y^2$.\n",
    "\n",
    "---"
   ]
  },
  {
   "cell_type": "code",
   "execution_count": 2,
   "metadata": {
    "collapsed": false
   },
   "outputs": [],
   "source": [
    "def mcmc_step(pdf, xs):\n",
    "    ds = np.random.uniform(-3, 3, size=len(xs))\n",
    "    r = np.random.uniform()\n",
    "    nxs = xs + ds\n",
    "    p0 = pdf(xs)\n",
    "    p1 = pdf(nxs)\n",
    "    if p1 > p0 or r < (p1 / p0):\n",
    "        return nxs\n",
    "    return xs\n",
    "\n",
    "\n",
    "def mcmc_burnin(pdf, xs, steps=10000):\n",
    "    for _ in range(steps):\n",
    "        xs = mcmc_step(pdf, xs)\n",
    "    return xs\n",
    "\n",
    "\n",
    "def mcmc_sample(pdf, xs, steps=100000):\n",
    "    xss = []\n",
    "    for _ in range(steps):\n",
    "        xs = mcmc_step(pdf, xs)\n",
    "        xss.append(xs)\n",
    "    return np.array(xss).T\n",
    "\n",
    "\n",
    "def pdf(xs):\n",
    "    x, y = xs\n",
    "    return np.exp(-((x - 2) * y + y ** 2) / 10) * np.sin(x * y + x) ** 2\n",
    "\n",
    "\n",
    "def pdf_old(xs):\n",
    "    x, y = xs\n",
    "    return (np.exp(-0.1 * ((x - 2.0) * x + y ** 2)) * np.sin(x * y + x)) ** 2\n",
    "\n",
    "\n",
    "xs = mcmc_burnin(pdf_old, np.array([0, 0]))\n",
    "xs, ys = mcmc_sample(pdf_old, xs)"
   ]
  },
  {
   "cell_type": "code",
   "execution_count": 3,
   "metadata": {
    "collapsed": false
   },
   "outputs": [
    {
     "data": {
      "image/png": "[encoded data removed]",
      "text/plain": [
       "<matplotlib.figure.Figure at 0x1118554e0>"
      ]
     },
     "metadata": {},
     "output_type": "display_data"
    },
    {
     "data": {
      "image/png": "[encoded data removed]",
      "text/plain": [
       "<matplotlib.figure.Figure at 0x10f36d6d8>"
      ]
     },
     "metadata": {},
     "output_type": "display_data"
    }
   ],
   "source": [
    "plt.hist2d(xs, ys, bins=40)\n",
    "plt.show()\n",
    "\n",
    "plt.hist(np.sqrt(xs ** 2 + ys ** 2), bins=40)\n",
    "plt.show()"
   ]
  },
  {
   "cell_type": "markdown",
   "metadata": {},
   "source": [
    "---\n",
    "## Aufgabe 2\n",
    "Ein Experiment beobachtet $n$ Ereignisse. Die Nachweiswahrscheinlichkeit für ein Ereignis sei $ε$. Die wahre Anzahl ist Poisson-verteilt mit einem Mittelwert $μ$, der eine Funktion zweier Theorieparameter $a$ und $b$ ist, $μ = ab$. Aus Kalibrationsmessungen ist bekannt dass $ε$ Gauss-verteilt ist mit $ε = 0.75 \\pm 0.05$. Vom Parameter $b$ ist bekannt dass er nahe bei $b = 1$ liegt. Für ihn wird eine gleichförmige Verteilung im Bereich $0.9 < b < 1.1$ angenommen. Der Parameter $a$ muss positiv sein. Verwenden Sie bayes’sche Statistik und MCMC, und bestimmen Sie für $n = 1$ und $n = 10$ die posterior Verteilung von $a$ nach Integration über die Nuissance-Parameter $ε$ und $b$.\n",
    "\n",
    "---"
   ]
  },
  {
   "cell_type": "code",
   "execution_count": null,
   "metadata": {
    "collapsed": true
   },
   "outputs": [],
   "source": []
  }
 ],
 "metadata": {
  "kernelspec": {
   "display_name": "Python 3",
   "language": "python",
   "name": "python3"
  },
  "language_info": {
   "codemirror_mode": {
    "name": "ipython",
    "version": 3
   },
   "file_extension": ".py",
   "mimetype": "text/x-python",
   "name": "python",
   "nbconvert_exporter": "python",
   "pygments_lexer": "ipython3",
   "version": "3.5.1"
  }
 },
 "nbformat": 4,
 "nbformat_minor": 0
}
